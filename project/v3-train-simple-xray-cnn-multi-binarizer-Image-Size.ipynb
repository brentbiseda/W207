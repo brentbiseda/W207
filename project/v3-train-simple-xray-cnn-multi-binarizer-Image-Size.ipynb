{
 "cells": [
  {
   "cell_type": "markdown",
   "metadata": {},
   "source": [
    "## Effect of Image Size on Training"
   ]
  },
  {
   "cell_type": "markdown",
   "metadata": {},
   "source": [
    "We Previously determined that the ADAM optimizer gave us the best results with a batch size of 256, and a learning rate of 0.0005. and with a gradient accumulation step size of 8 or batch size of 256. We will now try a variety of image sizes to determine if, as we might expect, that the full size images provide the best model."
   ]
  },
  {
   "cell_type": "code",
   "execution_count": 23,
   "metadata": {
    "_cell_guid": "f42f6560-edf0-4efb-85a6-6e945e50895b",
    "_uuid": "3300a1edbf2e8122d88093998eb503a6fab8a719"
   },
   "outputs": [],
   "source": [
    "import numpy as np # linear algebra\n",
    "import pandas as pd # data processing, CSV file I/O (e.g. pd.read_csv)\n",
    "import os\n",
    "from glob import glob\n",
    "%matplotlib inline\n",
    "import matplotlib.pyplot as plt"
   ]
  },
  {
   "cell_type": "code",
   "execution_count": 24,
   "metadata": {},
   "outputs": [
    {
     "name": "stdout",
     "output_type": "stream",
     "text": [
      "Scans found: 112120 , Total Headers 112120\n",
      "All Labels (14): ['Atelectasis', 'Cardiomegaly', 'Consolidation', 'Edema', 'Effusion', 'Emphysema', 'Fibrosis', 'Hernia', 'Infiltration', 'Mass', 'Nodule', 'Pleural_Thickening', 'Pneumonia', 'Pneumothorax']\n",
      "Clean Labels (13) [('Atelectasis', 11559), ('Cardiomegaly', 2776), ('Consolidation', 4667), ('Edema', 2303), ('Effusion', 13317), ('Emphysema', 2516), ('Fibrosis', 1686), ('Infiltration', 19894), ('Mass', 5782), ('Nodule', 6331), ('Pleural_Thickening', 3385), ('Pneumonia', 1431), ('Pneumothorax', 5302)]\n"
     ]
    }
   ],
   "source": [
    "all_xray_df = pd.read_csv('./data/Data_Entry_2017.csv')\n",
    "all_image_paths = {os.path.basename(x): x for x in \n",
    "                   glob(os.path.join('.', 'data', 'images*', '*.png'))}\n",
    "print('Scans found:', len(all_image_paths), ', Total Headers', all_xray_df.shape[0])\n",
    "all_xray_df['path'] = all_xray_df['Image Index'].map(all_image_paths.get)\n",
    "all_xray_df['path'] = all_xray_df['Image Index'].map(all_image_paths.get)\n",
    "\n",
    "label_counts = all_xray_df['Finding Labels'].value_counts()[:15]\n",
    "\n",
    "all_xray_df['Finding Labels'] = all_xray_df['Finding Labels'].map(lambda x: x.replace('No Finding', ''))\n",
    "from itertools import chain\n",
    "all_labels = np.unique(list(chain(*all_xray_df['Finding Labels'].map(lambda x: x.split('|')).tolist())))\n",
    "all_labels = [x for x in all_labels if len(x)>0]\n",
    "print('All Labels ({}): {}'.format(len(all_labels), all_labels))\n",
    "for c_label in all_labels:\n",
    "    if len(c_label)>1: # leave out empty labels\n",
    "        all_xray_df[c_label] = all_xray_df['Finding Labels'].map(lambda finding: 1.0 if c_label in finding else 0)\n",
    "\n",
    "# keep at least 1000 cases\n",
    "MIN_CASES = 1000\n",
    "all_labels = [c_label for c_label in all_labels if all_xray_df[c_label].sum()>MIN_CASES]\n",
    "print('Clean Labels ({})'.format(len(all_labels)), \n",
    "      [(c_label,int(all_xray_df[c_label].sum())) for c_label in all_labels])\n",
    "\n",
    "# since the dataset is very unbiased, we can resample it to be a more reasonable collection\n",
    "# weight is 0.1 + number of findings\n",
    "sample_weights = all_xray_df['Finding Labels'].map(lambda x: len(x.split('|')) if len(x)>0 else 0).values + 4e-2\n",
    "sample_weights /= sample_weights.sum()\n",
    "all_xray_df = all_xray_df.sample(40000, weights=sample_weights)\n",
    "\n",
    "label_counts = all_xray_df['Finding Labels'].value_counts()[:15]\n",
    "\n",
    "label_counts = 100*np.mean(all_xray_df[all_labels].values,0)"
   ]
  },
  {
   "cell_type": "markdown",
   "metadata": {
    "_cell_guid": "a1367d63-4c7b-4e47-b19f-9a26d1f89476",
    "_uuid": "6ed6489bbd618fb419ceca2bbd8c300694f1d4ed",
    "scrolled": true
   },
   "source": [
    "# Prepare Training Data\n",
    "Here we split the data into training and validation sets and create a single vector (disease_vec) with the 0/1 outputs for the disease status (what the model will try and predict)"
   ]
  },
  {
   "cell_type": "code",
   "execution_count": 25,
   "metadata": {
    "_cell_guid": "185ae07c-17a2-46d3-81ca-4007e88cbf86",
    "_uuid": "6f82e5ae33e1c0fcfa33ac51a26885cb5a0e6bb1"
   },
   "outputs": [],
   "source": [
    "all_xray_df['disease_vec'] = all_xray_df.apply(lambda x: [x[all_labels].values], 1).map(lambda x: x[0])"
   ]
  },
  {
   "cell_type": "code",
   "execution_count": 26,
   "metadata": {
    "_cell_guid": "5feddc96-7958-4d34-81f1-10eba94ab1b6",
    "_uuid": "8c7dc722de08243cc763d23928708f9c040bbdc6"
   },
   "outputs": [
    {
     "name": "stdout",
     "output_type": "stream",
     "text": [
      "train 30000 validation 10000\n"
     ]
    }
   ],
   "source": [
    "from sklearn.model_selection import train_test_split\n",
    "train_df, valid_df = train_test_split(all_xray_df, \n",
    "                                   test_size = 0.25, \n",
    "                                   random_state = 2018,\n",
    "                                   stratify = all_xray_df['Finding Labels'].map(lambda x: x[:4]))\n",
    "print('train', train_df.shape[0], 'validation', valid_df.shape[0])"
   ]
  },
  {
   "cell_type": "markdown",
   "metadata": {
    "_cell_guid": "7178cb8d-f220-4422-93ae-2469f0c97493",
    "_uuid": "0115346eb989e7eaeffa3643d05c654ec5ceb7c2"
   },
   "source": [
    "# Create Data Generators\n",
    "Here we make the data generators for loading and randomly transforming images"
   ]
  },
  {
   "cell_type": "code",
   "execution_count": 27,
   "metadata": {
    "scrolled": true
   },
   "outputs": [
    {
     "name": "stderr",
     "output_type": "stream",
     "text": [
      "C:\\Users\\bisedab\\AppData\\Local\\Continuum\\anaconda3\\lib\\site-packages\\ipykernel_launcher.py:1: SettingWithCopyWarning: \n",
      "A value is trying to be set on a copy of a slice from a DataFrame.\n",
      "Try using .loc[row_indexer,col_indexer] = value instead\n",
      "\n",
      "See the caveats in the documentation: http://pandas.pydata.org/pandas-docs/stable/indexing.html#indexing-view-versus-copy\n",
      "  \"\"\"Entry point for launching an IPython kernel.\n",
      "C:\\Users\\bisedab\\AppData\\Local\\Continuum\\anaconda3\\lib\\site-packages\\ipykernel_launcher.py:2: SettingWithCopyWarning: \n",
      "A value is trying to be set on a copy of a slice from a DataFrame.\n",
      "Try using .loc[row_indexer,col_indexer] = value instead\n",
      "\n",
      "See the caveats in the documentation: http://pandas.pydata.org/pandas-docs/stable/indexing.html#indexing-view-versus-copy\n",
      "  \n"
     ]
    }
   ],
   "source": [
    "valid_df['newLabel'] = valid_df.apply(lambda x: x['Finding Labels'].split('|'), axis=1)\n",
    "train_df['newLabel'] = train_df.apply(lambda x: x['Finding Labels'].split('|'), axis=1)"
   ]
  },
  {
   "cell_type": "code",
   "execution_count": 28,
   "metadata": {
    "_cell_guid": "30eaf01b-8ec0-4407-9d25-f87ca1f48e8a",
    "_uuid": "b5e42124376584390e925a06c4cee564285e43b3"
   },
   "outputs": [],
   "source": [
    "from keras.preprocessing.image import ImageDataGenerator\n",
    "core_idg = ImageDataGenerator(samplewise_center=True, \n",
    "                              samplewise_std_normalization=True, \n",
    "                              horizontal_flip = True, \n",
    "                              vertical_flip = False, \n",
    "                              height_shift_range= 0.05, \n",
    "                              width_shift_range=0.1, \n",
    "                              rotation_range=5, \n",
    "                              shear_range = 0.1,\n",
    "                              fill_mode = 'reflect',\n",
    "                              zoom_range=0.15)"
   ]
  },
  {
   "cell_type": "code",
   "execution_count": 29,
   "metadata": {
    "_cell_guid": "1acd1753-dae2-440d-a9d5-f3bbebfe446f",
    "_uuid": "90a131f99bea8b77fba54024e261a97e24dfc6c1"
   },
   "outputs": [],
   "source": [
    "from keras.callbacks import ModelCheckpoint, LearningRateScheduler, EarlyStopping, ReduceLROnPlateau\n",
    "weight_path=\"{}_weights.best.hdf5\".format('xray_class')\n",
    "\n",
    "checkpoint = ModelCheckpoint(weight_path, monitor='val_loss', verbose=1, \n",
    "                             save_best_only=True, mode='min', save_weights_only = True)\n",
    "\n",
    "early = EarlyStopping(monitor=\"val_loss\", \n",
    "                      mode=\"min\", \n",
    "                      patience=5)\n",
    "callbacks_list = [checkpoint, early]"
   ]
  },
  {
   "cell_type": "markdown",
   "metadata": {},
   "source": [
    "# Tuning Image Size"
   ]
  },
  {
   "cell_type": "code",
   "execution_count": 30,
   "metadata": {},
   "outputs": [],
   "source": [
    "# Gradient Accumulation Borrowed from following location:\n",
    "# https://stackoverflow.com/questions/55268762/how-to-accumulate-gradients-for-large-batch-sizes-in-keras\n",
    "\n",
    "import keras.backend as K\n",
    "from keras.legacy import interfaces\n",
    "from keras.optimizers import Optimizer\n",
    "\n",
    "class AdamAccumulate(Optimizer):\n",
    "\n",
    "    def __init__(self, lr=0.005, beta_1=0.9, beta_2=0.999,\n",
    "                 epsilon=None, decay=0., amsgrad=False, accum_iters=1, **kwargs):\n",
    "        if accum_iters < 1:\n",
    "            raise ValueError('accum_iters must be >= 1')\n",
    "        super(AdamAccumulate, self).__init__(**kwargs)\n",
    "        with K.name_scope(self.__class__.__name__):\n",
    "            self.iterations = K.variable(0, dtype='int64', name='iterations')\n",
    "            self.lr = K.variable(lr, name='lr')\n",
    "            self.beta_1 = K.variable(beta_1, name='beta_1')\n",
    "            self.beta_2 = K.variable(beta_2, name='beta_2')\n",
    "            self.decay = K.variable(decay, name='decay')\n",
    "        if epsilon is None:\n",
    "            epsilon = K.epsilon()\n",
    "        self.epsilon = epsilon\n",
    "        self.initial_decay = decay\n",
    "        self.amsgrad = amsgrad\n",
    "        self.accum_iters = K.variable(accum_iters, K.dtype(self.iterations))\n",
    "        self.accum_iters_float = K.cast(self.accum_iters, K.floatx())\n",
    "\n",
    "    @interfaces.legacy_get_updates_support\n",
    "    def get_updates(self, loss, params):\n",
    "        grads = self.get_gradients(loss, params)\n",
    "        self.updates = [K.update_add(self.iterations, 1)]\n",
    "\n",
    "        lr = self.lr\n",
    "\n",
    "        completed_updates = K.cast(K.tf.floordiv(self.iterations, self.accum_iters), K.floatx())\n",
    "\n",
    "        if self.initial_decay > 0:\n",
    "            lr = lr * (1. / (1. + self.decay * completed_updates))\n",
    "\n",
    "        t = completed_updates + 1\n",
    "\n",
    "        lr_t = lr * (K.sqrt(1. - K.pow(self.beta_2, t)) / (1. - K.pow(self.beta_1, t)))\n",
    "\n",
    "        # self.iterations incremented after processing a batch\n",
    "        # batch:              1 2 3 4 5 6 7 8 9\n",
    "        # self.iterations:    0 1 2 3 4 5 6 7 8\n",
    "        # update_switch = 1:        x       x    (if accum_iters=4)  \n",
    "        update_switch = K.equal((self.iterations + 1) % self.accum_iters, 0)\n",
    "        update_switch = K.cast(update_switch, K.floatx())\n",
    "\n",
    "        ms = [K.zeros(K.int_shape(p), dtype=K.dtype(p)) for p in params]\n",
    "        vs = [K.zeros(K.int_shape(p), dtype=K.dtype(p)) for p in params]\n",
    "        gs = [K.zeros(K.int_shape(p), dtype=K.dtype(p)) for p in params]\n",
    "\n",
    "        if self.amsgrad:\n",
    "            vhats = [K.zeros(K.int_shape(p), dtype=K.dtype(p)) for p in params]\n",
    "        else:\n",
    "            vhats = [K.zeros(1) for _ in params]\n",
    "\n",
    "        self.weights = [self.iterations] + ms + vs + vhats\n",
    "\n",
    "        for p, g, m, v, vhat, tg in zip(params, grads, ms, vs, vhats, gs):\n",
    "\n",
    "            sum_grad = tg + g\n",
    "            avg_grad = sum_grad / self.accum_iters_float\n",
    "\n",
    "            m_t = (self.beta_1 * m) + (1. - self.beta_1) * avg_grad\n",
    "            v_t = (self.beta_2 * v) + (1. - self.beta_2) * K.square(avg_grad)\n",
    "\n",
    "            if self.amsgrad:\n",
    "                vhat_t = K.maximum(vhat, v_t)\n",
    "                p_t = p - lr_t * m_t / (K.sqrt(vhat_t) + self.epsilon)\n",
    "                self.updates.append(K.update(vhat, (1 - update_switch) * vhat + update_switch * vhat_t))\n",
    "            else:\n",
    "                p_t = p - lr_t * m_t / (K.sqrt(v_t) + self.epsilon)\n",
    "\n",
    "            self.updates.append(K.update(m, (1 - update_switch) * m + update_switch * m_t))\n",
    "            self.updates.append(K.update(v, (1 - update_switch) * v + update_switch * v_t))\n",
    "            self.updates.append(K.update(tg, (1 - update_switch) * sum_grad))\n",
    "            new_p = p_t\n",
    "\n",
    "            # Apply constraints.\n",
    "            if getattr(p, 'constraint', None) is not None:\n",
    "                new_p = p.constraint(new_p)\n",
    "\n",
    "            self.updates.append(K.update(p, (1 - update_switch) * p + update_switch * new_p))\n",
    "        return self.updates\n",
    "\n",
    "    def get_config(self):\n",
    "        config = {'lr': float(K.get_value(self.lr)),\n",
    "                  'beta_1': float(K.get_value(self.beta_1)),\n",
    "                  'beta_2': float(K.get_value(self.beta_2)),\n",
    "                  'decay': float(K.get_value(self.decay)),\n",
    "                  'epsilon': self.epsilon,\n",
    "                  'amsgrad': self.amsgrad}\n",
    "        base_config = super(AdamAccumulate, self).get_config()\n",
    "        return dict(list(base_config.items()) + list(config.items()))"
   ]
  },
  {
   "cell_type": "code",
   "execution_count": 32,
   "metadata": {},
   "outputs": [],
   "source": [
    "from keras.applications.mobilenet import MobileNet\n",
    "from keras.layers import GlobalAveragePooling2D, Dense, Dropout, Flatten\n",
    "from keras.models import Sequential\n",
    "from keras import optimizers, callbacks, regularizers\n",
    "\n",
    "def MakeModel(IMG_SIZE, bs):\n",
    "    model = Sequential()\n",
    "    base_mobilenet_model = MobileNet(input_shape =  (*IMG_SIZE, 1), #Need to define the shape here from IMG_SIZE\n",
    "                                 include_top = False, weights = None)\n",
    "    model.add(base_mobilenet_model)\n",
    "    model.add(GlobalAveragePooling2D())\n",
    "    model.add(Dropout(0.5))\n",
    "    model.add(Dense(512))\n",
    "    model.add(Dropout(0.5))\n",
    "    model.add(Dense(len(all_labels), activation = 'sigmoid'))\n",
    "    return model"
   ]
  },
  {
   "cell_type": "markdown",
   "metadata": {},
   "source": [
    "### Here we set the steps per epoch and the batch size so regardless of learning rate, we are looking at the same number of examples"
   ]
  },
  {
   "cell_type": "code",
   "execution_count": 37,
   "metadata": {},
   "outputs": [],
   "source": [
    "IMG_SIZE_LIST = [(1024, 1024), (512, 512), (256, 256), (224, 224), (192,192) ,(128, 128), (64, 64)]\n",
    "BATCH_SIZE_LIST = [4, 8, 16, 32, 32, 32, 64]\n",
    "\n",
    "#This was determined earlier in the training data loader\n",
    "STEPS_PER_EPOCH = 10000\n",
    "EPOCHS = 10"
   ]
  },
  {
   "cell_type": "code",
   "execution_count": null,
   "metadata": {
    "scrolled": false
   },
   "outputs": [
    {
     "name": "stdout",
     "output_type": "stream",
     "text": [
      "Found 28286 validated image filenames belonging to 13 classes.\n",
      "Found 9430 validated image filenames belonging to 13 classes.\n",
      "Running Image Size:  (1024, 1024) Running Batch size :  4 Learning Rate :  0.0005\n",
      "Epoch 1/10\n",
      "10000/10000 [==============================] - 3926s 393ms/step - loss: 0.3675 - binary_accuracy: 0.8597 - mean_absolute_error: 0.2104 - val_loss: 0.3338 - val_binary_accuracy: 0.8702 - val_mean_absolute_error: 0.2003\n",
      "\n",
      "Epoch 00001: val_loss did not improve from 0.31454\n",
      "Epoch 2/10\n",
      "10000/10000 [==============================] - 4014s 401ms/step - loss: 0.3462 - binary_accuracy: 0.8669 - mean_absolute_error: 0.2055 - val_loss: 0.3321 - val_binary_accuracy: 0.8695 - val_mean_absolute_error: 0.1984\n",
      "\n",
      "Epoch 00002: val_loss did not improve from 0.31454\n",
      "Epoch 3/10\n",
      "10000/10000 [==============================] - 3965s 397ms/step - loss: 0.3426 - binary_accuracy: 0.8675 - mean_absolute_error: 0.2040 - val_loss: 0.3290 - val_binary_accuracy: 0.8706 - val_mean_absolute_error: 0.1969\n",
      "\n",
      "Epoch 00003: val_loss did not improve from 0.31454\n",
      "Epoch 4/10\n",
      "10000/10000 [==============================] - 4195s 419ms/step - loss: 0.3404 - binary_accuracy: 0.8682 - mean_absolute_error: 0.2029 - val_loss: 0.3273 - val_binary_accuracy: 0.8723 - val_mean_absolute_error: 0.1972\n",
      "\n",
      "Epoch 00004: val_loss did not improve from 0.31454\n",
      "Epoch 5/10\n",
      "10000/10000 [==============================] - 4120s 412ms/step - loss: 0.3372 - binary_accuracy: 0.8687 - mean_absolute_error: 0.2014 - val_loss: 0.3259 - val_binary_accuracy: 0.8705 - val_mean_absolute_error: 0.2045\n",
      "\n",
      "Epoch 00005: val_loss did not improve from 0.31454\n",
      "Epoch 6/10\n",
      "10000/10000 [==============================] - 3899s 390ms/step - loss: 0.3342 - binary_accuracy: 0.8694 - mean_absolute_error: 0.1996 - val_loss: 0.3191 - val_binary_accuracy: 0.8726 - val_mean_absolute_error: 0.1978\n",
      "\n",
      "Epoch 00006: val_loss did not improve from 0.31454\n",
      "Epoch 7/10\n",
      "10000/10000 [==============================] - 3938s 394ms/step - loss: 0.3292 - binary_accuracy: 0.8710 - mean_absolute_error: 0.1966 - val_loss: 0.3193 - val_binary_accuracy: 0.8738 - val_mean_absolute_error: 0.1981\n",
      "\n",
      "Epoch 00007: val_loss did not improve from 0.31454\n",
      "Epoch 8/10\n",
      "10000/10000 [==============================] - 3983s 398ms/step - loss: 0.3267 - binary_accuracy: 0.8714 - mean_absolute_error: 0.1952 - val_loss: 0.3179 - val_binary_accuracy: 0.8732 - val_mean_absolute_error: 0.1899\n",
      "\n",
      "Epoch 00008: val_loss did not improve from 0.31454\n",
      "Epoch 9/10\n",
      "10000/10000 [==============================] - 3866s 387ms/step - loss: 0.3246 - binary_accuracy: 0.8720 - mean_absolute_error: 0.1940 - val_loss: 0.3145 - val_binary_accuracy: 0.8742 - val_mean_absolute_error: 0.1915\n",
      "\n",
      "Epoch 00009: val_loss improved from 0.31454 to 0.31449, saving model to xray_class_weights.best.hdf5\n",
      "Epoch 10/10\n",
      "10000/10000 [==============================] - 3829s 383ms/step - loss: 0.3220 - binary_accuracy: 0.8730 - mean_absolute_error: 0.1924 - val_loss: 0.3173 - val_binary_accuracy: 0.8742 - val_mean_absolute_error: 0.1870\n",
      "\n",
      "Epoch 00010: val_loss did not improve from 0.31449\n",
      "**************************************************\n",
      "\n",
      "Found 28286 validated image filenames belonging to 13 classes.\n",
      "Found 9430 validated image filenames belonging to 13 classes.\n",
      "Running Image Size:  (512, 512) Running Batch size :  8 Learning Rate :  0.0005\n",
      "Epoch 1/10\n",
      "10000/10000 [==============================] - 2652s 265ms/step - loss: 0.3590 - binary_accuracy: 0.8622 - mean_absolute_error: 0.2073 - val_loss: 0.3277 - val_binary_accuracy: 0.8713 - val_mean_absolute_error: 0.1924\n",
      "\n",
      "Epoch 00001: val_loss did not improve from 0.31449\n",
      "Epoch 2/10\n",
      "10000/10000 [==============================] - 2635s 264ms/step - loss: 0.3368 - binary_accuracy: 0.8690 - mean_absolute_error: 0.2003 - val_loss: 0.3209 - val_binary_accuracy: 0.8739 - val_mean_absolute_error: 0.1942\n",
      "\n",
      "Epoch 00002: val_loss did not improve from 0.31449\n",
      "Epoch 3/10\n",
      "10000/10000 [==============================] - 2630s 263ms/step - loss: 0.3300 - binary_accuracy: 0.8710 - mean_absolute_error: 0.1966 - val_loss: 0.3161 - val_binary_accuracy: 0.8746 - val_mean_absolute_error: 0.1863\n",
      "\n",
      "Epoch 00003: val_loss did not improve from 0.31449\n",
      "Epoch 4/10\n",
      "10000/10000 [==============================] - 2621s 262ms/step - loss: 0.3239 - binary_accuracy: 0.8726 - mean_absolute_error: 0.1935 - val_loss: 0.3116 - val_binary_accuracy: 0.8760 - val_mean_absolute_error: 0.1898\n",
      "\n",
      "Epoch 00004: val_loss improved from 0.31449 to 0.31160, saving model to xray_class_weights.best.hdf5\n",
      "Epoch 5/10\n",
      "10000/10000 [==============================] - 2615s 261ms/step - loss: 0.3174 - binary_accuracy: 0.8744 - mean_absolute_error: 0.1899 - val_loss: 0.3049 - val_binary_accuracy: 0.8779 - val_mean_absolute_error: 0.1832\n",
      "\n",
      "Epoch 00005: val_loss improved from 0.31160 to 0.30490, saving model to xray_class_weights.best.hdf5\n",
      "Epoch 6/10\n",
      "10000/10000 [==============================] - 2613s 261ms/step - loss: 0.3119 - binary_accuracy: 0.8760 - mean_absolute_error: 0.1868 - val_loss: 0.3045 - val_binary_accuracy: 0.8796 - val_mean_absolute_error: 0.1807\n",
      "\n",
      "Epoch 00006: val_loss improved from 0.30490 to 0.30454, saving model to xray_class_weights.best.hdf5\n",
      "Epoch 7/10\n",
      "10000/10000 [==============================] - 2617s 262ms/step - loss: 0.3082 - binary_accuracy: 0.8774 - mean_absolute_error: 0.1848 - val_loss: 0.2978 - val_binary_accuracy: 0.8807 - val_mean_absolute_error: 0.1789\n",
      "\n",
      "Epoch 00007: val_loss improved from 0.30454 to 0.29777, saving model to xray_class_weights.best.hdf5\n",
      "Epoch 8/10\n",
      "10000/10000 [==============================] - 2620s 262ms/step - loss: 0.3036 - binary_accuracy: 0.8785 - mean_absolute_error: 0.1820 - val_loss: 0.2966 - val_binary_accuracy: 0.8816 - val_mean_absolute_error: 0.1815\n",
      "\n",
      "Epoch 00008: val_loss improved from 0.29777 to 0.29660, saving model to xray_class_weights.best.hdf5\n",
      "Epoch 9/10\n",
      "10000/10000 [==============================] - 2619s 262ms/step - loss: 0.3007 - binary_accuracy: 0.8796 - mean_absolute_error: 0.1804 - val_loss: 0.2934 - val_binary_accuracy: 0.8833 - val_mean_absolute_error: 0.1714\n",
      "\n",
      "Epoch 00009: val_loss improved from 0.29660 to 0.29340, saving model to xray_class_weights.best.hdf5\n",
      "Epoch 10/10\n",
      "10000/10000 [==============================] - 2623s 262ms/step - loss: 0.2967 - binary_accuracy: 0.8811 - mean_absolute_error: 0.1780 - val_loss: 0.2916 - val_binary_accuracy: 0.8835 - val_mean_absolute_error: 0.1772\n",
      "\n",
      "Epoch 00010: val_loss improved from 0.29340 to 0.29163, saving model to xray_class_weights.best.hdf5\n",
      "**************************************************\n",
      "\n",
      "Found 28286 validated image filenames belonging to 13 classes.\n",
      "Found 9430 validated image filenames belonging to 13 classes.\n",
      "Running Image Size:  (256, 256) Running Batch size :  16 Learning Rate :  0.0005\n",
      "Epoch 1/10\n",
      "10000/10000 [==============================] - 2868s 287ms/step - loss: 0.3520 - binary_accuracy: 0.8645 - mean_absolute_error: 0.2041 - val_loss: 0.3255 - val_binary_accuracy: 0.8716 - val_mean_absolute_error: 0.1937\n",
      "\n",
      "Epoch 00001: val_loss did not improve from 0.29163\n",
      "Epoch 2/10\n",
      "10000/10000 [==============================] - 2846s 285ms/step - loss: 0.3306 - binary_accuracy: 0.8707 - mean_absolute_error: 0.1972 - val_loss: 0.3174 - val_binary_accuracy: 0.8740 - val_mean_absolute_error: 0.1914\n",
      "\n",
      "Epoch 00002: val_loss did not improve from 0.29163\n",
      "Epoch 3/10\n",
      "10000/10000 [==============================] - 2840s 284ms/step - loss: 0.3206 - binary_accuracy: 0.8735 - mean_absolute_error: 0.1919 - val_loss: 0.3066 - val_binary_accuracy: 0.8772 - val_mean_absolute_error: 0.1871\n",
      "\n",
      "Epoch 00003: val_loss did not improve from 0.29163\n",
      "Epoch 4/10\n",
      "10000/10000 [==============================] - 2860s 286ms/step - loss: 0.3122 - binary_accuracy: 0.8757 - mean_absolute_error: 0.1873 - val_loss: 0.3006 - val_binary_accuracy: 0.8792 - val_mean_absolute_error: 0.1803\n",
      "\n",
      "Epoch 00004: val_loss did not improve from 0.29163\n",
      "Epoch 5/10\n",
      "10000/10000 [==============================] - 2931s 293ms/step - loss: 0.3050 - binary_accuracy: 0.8781 - mean_absolute_error: 0.1831 - val_loss: 0.2996 - val_binary_accuracy: 0.8800 - val_mean_absolute_error: 0.1777\n",
      "\n",
      "Epoch 00005: val_loss did not improve from 0.29163\n",
      "Epoch 6/10\n"
     ]
    },
    {
     "name": "stdout",
     "output_type": "stream",
     "text": [
      "10000/10000 [==============================] - 2877s 288ms/step - loss: 0.2992 - binary_accuracy: 0.8799 - mean_absolute_error: 0.1798 - val_loss: 0.2952 - val_binary_accuracy: 0.8820 - val_mean_absolute_error: 0.1793\n",
      "\n",
      "Epoch 00006: val_loss did not improve from 0.29163\n",
      "Epoch 7/10\n",
      "10000/10000 [==============================] - 2908s 291ms/step - loss: 0.2930 - binary_accuracy: 0.8820 - mean_absolute_error: 0.1761 - val_loss: 0.2951 - val_binary_accuracy: 0.8818 - val_mean_absolute_error: 0.1709\n",
      "\n",
      "Epoch 00007: val_loss did not improve from 0.29163\n",
      "Epoch 8/10\n",
      "10000/10000 [==============================] - 2875s 288ms/step - loss: 0.2866 - binary_accuracy: 0.8843 - mean_absolute_error: 0.1723 - val_loss: 0.2917 - val_binary_accuracy: 0.8828 - val_mean_absolute_error: 0.1684\n",
      "\n",
      "Epoch 00008: val_loss did not improve from 0.29163\n",
      "Epoch 9/10\n",
      "10000/10000 [==============================] - 2883s 288ms/step - loss: 0.2796 - binary_accuracy: 0.8868 - mean_absolute_error: 0.1682 - val_loss: 0.2905 - val_binary_accuracy: 0.8829 - val_mean_absolute_error: 0.1705\n",
      "\n",
      "Epoch 00009: val_loss improved from 0.29163 to 0.29046, saving model to xray_class_weights.best.hdf5\n",
      "Epoch 10/10\n",
      "10000/10000 [==============================] - 2917s 292ms/step - loss: 0.2722 - binary_accuracy: 0.8894 - mean_absolute_error: 0.1639 - val_loss: 0.2933 - val_binary_accuracy: 0.8822 - val_mean_absolute_error: 0.1700\n",
      "\n",
      "Epoch 00010: val_loss did not improve from 0.29046\n",
      "**************************************************\n",
      "\n",
      "Found 28286 validated image filenames belonging to 13 classes.\n",
      "Found 9430 validated image filenames belonging to 13 classes.\n",
      "Running Image Size:  (224, 224) Running Batch size :  32 Learning Rate :  0.0005\n",
      "Epoch 1/10\n",
      " 4715/10000 [=============>................] - ETA: 41:54 - loss: 0.3542 - binary_accuracy: 0.8638 - mean_absolute_error: 0.2044"
     ]
    }
   ],
   "source": [
    "import gc\n",
    "from collections import defaultdict\n",
    "from sklearn.metrics import log_loss\n",
    "\n",
    "run_this_code = True # This Code Block Takes a long time to run\n",
    "\n",
    "if run_this_code:\n",
    "    train_results = defaultdict(dict)\n",
    "    test_results  = defaultdict(dict)\n",
    "    \n",
    "    lr = 0.0005\n",
    "    syntheticBatch = 256\n",
    "    \n",
    "    plt.figure(figsize=(20,5))\n",
    "\n",
    "    for imageSize, batchSize in zip(IMG_SIZE_LIST, BATCH_SIZE_LIST): #Number of batches before gradient accumulation\n",
    "        \n",
    "        batch = int(256 / batchSize) # Gradient Accumulation Step\n",
    "        \n",
    "        train_gen = core_idg.flow_from_dataframe(dataframe=train_df, \n",
    "                                 directory=None,\n",
    "                                 x_col = 'path',\n",
    "                                y_col = 'newLabel', \n",
    "                                 class_mode = 'categorical',\n",
    "                                classes = all_labels,\n",
    "                                target_size = imageSize,\n",
    "                                 color_mode = 'grayscale',\n",
    "                                batch_size = batchSize)\n",
    "\n",
    "        valid_gen = core_idg.flow_from_dataframe(dataframe=valid_df, \n",
    "                                 directory=None,\n",
    "                                 x_col = 'path',\n",
    "                                y_col = 'newLabel', \n",
    "                                 class_mode = 'categorical',\n",
    "                                classes = all_labels,\n",
    "                                target_size = imageSize,\n",
    "                                 color_mode = 'grayscale',\n",
    "                                batch_size = batchSize) # we can use much larger batches for evaluation\n",
    "\n",
    "        print ('Running Image Size: ', imageSize, 'Running Batch size : ', \n",
    "               batchSize, 'Learning Rate : ', lr)\n",
    "        \n",
    "        predictions_train = pd.DataFrame()\n",
    "        predictions_test  = pd.DataFrame()\n",
    "\n",
    "        opt = AdamAccumulate(lr=lr, accum_iters=batch) #Set the gradient accumulation value\n",
    "        \n",
    "        multi_disease_model = MakeModel(imageSize, batchSize)\n",
    "        multi_disease_model.compile(optimizer = opt, loss = 'binary_crossentropy',\n",
    "               metrics = ['binary_accuracy', 'mae'])\n",
    "\n",
    "        history = multi_disease_model.fit_generator(train_gen, \n",
    "                      steps_per_epoch=STEPS_PER_EPOCH,\n",
    "                      validation_data = valid_gen, \n",
    "                      epochs = EPOCHS, \n",
    "                      callbacks = callbacks_list,\n",
    "                      validation_steps = 1000)\n",
    "\n",
    "        #multi_disease_model.load_weights(weight_path)\n",
    "    \n",
    "        plt.plot(history.history['val_loss'])\n",
    "\n",
    "        p = history.history['val_loss'][0]\n",
    "\n",
    "        del multi_disease_model, history\n",
    "        gc.collect()\n",
    "        print('*'*50)\n",
    "        print('')\n",
    "\n",
    "        test_results[imageSize[0]][lr]  = p\n",
    "        imageSizeFile = pd.DataFrame(test_results)\n",
    "        imageSizeFile.to_csv(\"imageSize.csv\", index=True)\n",
    "\n",
    "    plt.legend([str(x[0]) for x in IMG_SIZE_LIST], loc='upper right')\n",
    "    plt.title('model accuracy')\n",
    "    plt.ylabel('loss')\n",
    "    plt.xlabel('epoch')\n",
    "    plt.show()\n",
    "    plt.savefig('image_size_selection.png', bbox_inches='tight')"
   ]
  },
  {
   "cell_type": "code",
   "execution_count": 16,
   "metadata": {},
   "outputs": [
    {
     "data": {
      "text/plain": [
       "defaultdict(dict,\n",
       "            {1024: {0.0005: 0.40957993268966675},\n",
       "             512: {0.0005: 0.2689187228679657},\n",
       "             256: {0.0005: 0.43170666694641113},\n",
       "             224: {0.0005: 0.5252531170845032},\n",
       "             192: {0.0005: 0.26770344376564026},\n",
       "             128: {0.0005: 0.2965983748435974},\n",
       "             64: {0.0005: 0.3375091552734375}})"
      ]
     },
     "execution_count": 16,
     "metadata": {},
     "output_type": "execute_result"
    }
   ],
   "source": [
    "test_results"
   ]
  },
  {
   "cell_type": "code",
   "execution_count": 17,
   "metadata": {},
   "outputs": [],
   "source": [
    "imageSizeSummary = pd.read_csv(\"imageSize.csv\")"
   ]
  },
  {
   "cell_type": "code",
   "execution_count": 18,
   "metadata": {},
   "outputs": [
    {
     "data": {
      "text/html": [
       "<div>\n",
       "<style scoped>\n",
       "    .dataframe tbody tr th:only-of-type {\n",
       "        vertical-align: middle;\n",
       "    }\n",
       "\n",
       "    .dataframe tbody tr th {\n",
       "        vertical-align: top;\n",
       "    }\n",
       "\n",
       "    .dataframe thead th {\n",
       "        text-align: right;\n",
       "    }\n",
       "</style>\n",
       "<table border=\"1\" class=\"dataframe\">\n",
       "  <thead>\n",
       "    <tr style=\"text-align: right;\">\n",
       "      <th></th>\n",
       "      <th>Unnamed: 0</th>\n",
       "      <th>1024</th>\n",
       "      <th>512</th>\n",
       "      <th>256</th>\n",
       "      <th>224</th>\n",
       "      <th>192</th>\n",
       "      <th>128</th>\n",
       "      <th>64</th>\n",
       "    </tr>\n",
       "  </thead>\n",
       "  <tbody>\n",
       "    <tr>\n",
       "      <th>0</th>\n",
       "      <td>0.0005</td>\n",
       "      <td>0.40958</td>\n",
       "      <td>0.268919</td>\n",
       "      <td>0.431707</td>\n",
       "      <td>0.525253</td>\n",
       "      <td>0.267703</td>\n",
       "      <td>0.296598</td>\n",
       "      <td>0.337509</td>\n",
       "    </tr>\n",
       "  </tbody>\n",
       "</table>\n",
       "</div>"
      ],
      "text/plain": [
       "   Unnamed: 0     1024       512       256       224       192       128  \\\n",
       "0      0.0005  0.40958  0.268919  0.431707  0.525253  0.267703  0.296598   \n",
       "\n",
       "         64  \n",
       "0  0.337509  "
      ]
     },
     "execution_count": 18,
     "metadata": {},
     "output_type": "execute_result"
    }
   ],
   "source": [
    "imageSizeSummary"
   ]
  },
  {
   "cell_type": "markdown",
   "metadata": {},
   "source": [
    "#### Analysis of Image Size:\n",
    "\n",
    "The above table shows image size resolution.  Mobile net was designed for 224 x 224. VGG19 was also designed with a native resolution of 224 x 224.  However, inceptionV3 resnet was designed with a resolution of 299 x 299.  We would expect no improvement in performance beyond the initial design of the network.  However, we do in fact see some improvement with images of size 512 x 512.  Therefore, we will go forward with a resolution of 512 x 512, knowing with confidence that we should get results at least as good as using the native resolution of the various models (299 x 299).\n",
    "\n"
   ]
  },
  {
   "cell_type": "markdown",
   "metadata": {},
   "source": [
    "#### Hyper-Parameter Tuning:\n",
    "\n",
    "Going forward we can use the ADAM optimizer along with a batch size of 256 using gradient accumulation every 8th step with an actual batch size of 32.\n",
    "\n",
    "We can use image size of (512 x 512)"
   ]
  },
  {
   "cell_type": "markdown",
   "metadata": {},
   "source": [
    "# Create Mobile Net Model"
   ]
  },
  {
   "cell_type": "code",
   "execution_count": 11,
   "metadata": {
    "scrolled": false
   },
   "outputs": [
    {
     "name": "stdout",
     "output_type": "stream",
     "text": [
      "Found 28227 validated image filenames belonging to 13 classes.\n",
      "Found 9403 validated image filenames belonging to 13 classes.\n",
      "Found 28227 validated image filenames belonging to 13 classes.\n",
      "Found 9403 validated image filenames belonging to 13 classes.\n",
      "WARNING:tensorflow:From C:\\Users\\bisedab\\AppData\\Local\\Continuum\\anaconda3\\lib\\site-packages\\tensorflow\\python\\framework\\op_def_library.py:263: colocate_with (from tensorflow.python.framework.ops) is deprecated and will be removed in a future version.\n",
      "Instructions for updating:\n",
      "Colocations handled automatically by placer.\n",
      "WARNING:tensorflow:From C:\\Users\\bisedab\\AppData\\Local\\Continuum\\anaconda3\\lib\\site-packages\\keras\\backend\\tensorflow_backend.py:3445: calling dropout (from tensorflow.python.ops.nn_ops) with keep_prob is deprecated and will be removed in a future version.\n",
      "Instructions for updating:\n",
      "Please use `rate` instead of `keep_prob`. Rate should be set to `rate = 1 - keep_prob`.\n",
      "WARNING:tensorflow:From C:\\Users\\bisedab\\AppData\\Local\\Continuum\\anaconda3\\lib\\site-packages\\tensorflow\\python\\ops\\math_ops.py:3066: to_int32 (from tensorflow.python.ops.math_ops) is deprecated and will be removed in a future version.\n",
      "Instructions for updating:\n",
      "Use tf.cast instead.\n",
      "Epoch 1/100\n",
      "1000/1000 [==============================] - 472s 472ms/step - loss: 0.4030 - binary_accuracy: 0.8488 - mean_absolute_error: 0.2128 - val_loss: 0.3268 - val_binary_accuracy: 0.8702 - val_mean_absolute_error: 0.1900\n",
      "\n",
      "Epoch 00001: val_loss improved from inf to 0.32683, saving model to xray_class_weights.best.hdf5\n",
      "Epoch 2/100\n",
      "1000/1000 [==============================] - 467s 467ms/step - loss: 0.3557 - binary_accuracy: 0.8636 - mean_absolute_error: 0.2076 - val_loss: 0.3219 - val_binary_accuracy: 0.8750 - val_mean_absolute_error: 0.1890\n",
      "\n",
      "Epoch 00002: val_loss improved from 0.32683 to 0.32186, saving model to xray_class_weights.best.hdf5\n",
      "Epoch 3/100\n",
      "1000/1000 [==============================] - 466s 466ms/step - loss: 0.3490 - binary_accuracy: 0.8658 - mean_absolute_error: 0.2063 - val_loss: 0.3111 - val_binary_accuracy: 0.8798 - val_mean_absolute_error: 0.1887\n",
      "\n",
      "Epoch 00003: val_loss improved from 0.32186 to 0.31112, saving model to xray_class_weights.best.hdf5\n",
      "Epoch 4/100\n",
      "1000/1000 [==============================] - 467s 467ms/step - loss: 0.3438 - binary_accuracy: 0.8671 - mean_absolute_error: 0.2038 - val_loss: 0.3140 - val_binary_accuracy: 0.8846 - val_mean_absolute_error: 0.1876\n",
      "\n",
      "Epoch 00004: val_loss did not improve from 0.31112\n",
      "Epoch 5/100\n",
      "1000/1000 [==============================] - 490s 490ms/step - loss: 0.3422 - binary_accuracy: 0.8672 - mean_absolute_error: 0.2031 - val_loss: 0.3087 - val_binary_accuracy: 0.8750 - val_mean_absolute_error: 0.1870\n",
      "\n",
      "Epoch 00005: val_loss improved from 0.31112 to 0.30866, saving model to xray_class_weights.best.hdf5\n",
      "Epoch 6/100\n",
      "1000/1000 [==============================] - 489s 489ms/step - loss: 0.3391 - binary_accuracy: 0.8684 - mean_absolute_error: 0.2013 - val_loss: 0.3114 - val_binary_accuracy: 0.8798 - val_mean_absolute_error: 0.1867\n",
      "\n",
      "Epoch 00006: val_loss did not improve from 0.30866\n",
      "Epoch 7/100\n",
      "1000/1000 [==============================] - 485s 485ms/step - loss: 0.3377 - binary_accuracy: 0.8683 - mean_absolute_error: 0.2008 - val_loss: 0.3029 - val_binary_accuracy: 0.8846 - val_mean_absolute_error: 0.1829\n",
      "\n",
      "Epoch 00007: val_loss improved from 0.30866 to 0.30291, saving model to xray_class_weights.best.hdf5\n",
      "Epoch 8/100\n",
      "1000/1000 [==============================] - 491s 491ms/step - loss: 0.3357 - binary_accuracy: 0.8690 - mean_absolute_error: 0.1999 - val_loss: 0.3043 - val_binary_accuracy: 0.8846 - val_mean_absolute_error: 0.1852\n",
      "\n",
      "Epoch 00008: val_loss did not improve from 0.30291\n",
      "Epoch 9/100\n",
      "1000/1000 [==============================] - 493s 493ms/step - loss: 0.3333 - binary_accuracy: 0.8701 - mean_absolute_error: 0.1981 - val_loss: 0.3037 - val_binary_accuracy: 0.8846 - val_mean_absolute_error: 0.1810\n",
      "\n",
      "Epoch 00009: val_loss did not improve from 0.30291\n",
      "Epoch 10/100\n",
      "1000/1000 [==============================] - 459s 459ms/step - loss: 0.3318 - binary_accuracy: 0.8704 - mean_absolute_error: 0.1975 - val_loss: 0.3009 - val_binary_accuracy: 0.8846 - val_mean_absolute_error: 0.1723\n",
      "\n",
      "Epoch 00010: val_loss improved from 0.30291 to 0.30091, saving model to xray_class_weights.best.hdf5\n",
      "Epoch 11/100\n",
      "1000/1000 [==============================] - 460s 460ms/step - loss: 0.3307 - binary_accuracy: 0.8704 - mean_absolute_error: 0.1970 - val_loss: 0.3152 - val_binary_accuracy: 0.8750 - val_mean_absolute_error: 0.1870\n",
      "\n",
      "Epoch 00011: val_loss did not improve from 0.30091\n",
      "Epoch 12/100\n",
      "1000/1000 [==============================] - 475s 475ms/step - loss: 0.3304 - binary_accuracy: 0.8704 - mean_absolute_error: 0.1966 - val_loss: 0.2904 - val_binary_accuracy: 0.8990 - val_mean_absolute_error: 0.1664\n",
      "\n",
      "Epoch 00012: val_loss improved from 0.30091 to 0.29038, saving model to xray_class_weights.best.hdf5\n",
      "Epoch 13/100\n",
      "1000/1000 [==============================] - 473s 473ms/step - loss: 0.3295 - binary_accuracy: 0.8715 - mean_absolute_error: 0.1959 - val_loss: 0.2905 - val_binary_accuracy: 0.9038 - val_mean_absolute_error: 0.1760\n",
      "\n",
      "Epoch 00013: val_loss did not improve from 0.29038\n",
      "Epoch 14/100\n",
      "1000/1000 [==============================] - 481s 481ms/step - loss: 0.3269 - binary_accuracy: 0.8720 - mean_absolute_error: 0.1952 - val_loss: 0.2983 - val_binary_accuracy: 0.8750 - val_mean_absolute_error: 0.1775\n",
      "\n",
      "Epoch 00014: val_loss did not improve from 0.29038\n",
      "Epoch 15/100\n",
      "1000/1000 [==============================] - 489s 489ms/step - loss: 0.3250 - binary_accuracy: 0.8722 - mean_absolute_error: 0.1936 - val_loss: 0.2930 - val_binary_accuracy: 0.8942 - val_mean_absolute_error: 0.1768\n",
      "\n",
      "Epoch 00015: val_loss did not improve from 0.29038\n",
      "Epoch 16/100\n",
      "1000/1000 [==============================] - 494s 494ms/step - loss: 0.3250 - binary_accuracy: 0.8724 - mean_absolute_error: 0.1936 - val_loss: 0.2889 - val_binary_accuracy: 0.8894 - val_mean_absolute_error: 0.1758\n",
      "\n",
      "Epoch 00016: val_loss improved from 0.29038 to 0.28891, saving model to xray_class_weights.best.hdf5\n",
      "Epoch 17/100\n",
      "1000/1000 [==============================] - 496s 496ms/step - loss: 0.3221 - binary_accuracy: 0.8734 - mean_absolute_error: 0.1927 - val_loss: 0.2964 - val_binary_accuracy: 0.8798 - val_mean_absolute_error: 0.1828\n",
      "\n",
      "Epoch 00017: val_loss did not improve from 0.28891\n",
      "Epoch 18/100\n",
      "1000/1000 [==============================] - 494s 494ms/step - loss: 0.3204 - binary_accuracy: 0.8733 - mean_absolute_error: 0.1913 - val_loss: 0.3021 - val_binary_accuracy: 0.8798 - val_mean_absolute_error: 0.1844\n",
      "\n",
      "Epoch 00018: val_loss did not improve from 0.28891\n",
      "Epoch 19/100\n",
      "1000/1000 [==============================] - 494s 494ms/step - loss: 0.3194 - binary_accuracy: 0.8734 - mean_absolute_error: 0.1909 - val_loss: 0.2899 - val_binary_accuracy: 0.9038 - val_mean_absolute_error: 0.1812\n",
      "\n",
      "Epoch 00019: val_loss did not improve from 0.28891\n",
      "Epoch 20/100\n",
      "1000/1000 [==============================] - 470s 470ms/step - loss: 0.3196 - binary_accuracy: 0.8737 - mean_absolute_error: 0.1913 - val_loss: 0.2826 - val_binary_accuracy: 0.8942 - val_mean_absolute_error: 0.1733\n",
      "\n",
      "Epoch 00020: val_loss improved from 0.28891 to 0.28264, saving model to xray_class_weights.best.hdf5\n",
      "Epoch 21/100\n",
      "1000/1000 [==============================] - 467s 467ms/step - loss: 0.3163 - binary_accuracy: 0.8748 - mean_absolute_error: 0.1892 - val_loss: 0.2932 - val_binary_accuracy: 0.8942 - val_mean_absolute_error: 0.1819\n",
      "\n",
      "Epoch 00021: val_loss did not improve from 0.28264\n",
      "Epoch 22/100\n",
      "1000/1000 [==============================] - 464s 464ms/step - loss: 0.3167 - binary_accuracy: 0.8742 - mean_absolute_error: 0.1893 - val_loss: 0.2911 - val_binary_accuracy: 0.8750 - val_mean_absolute_error: 0.1747\n",
      "\n",
      "Epoch 00022: val_loss did not improve from 0.28264\n",
      "Epoch 23/100\n",
      "1000/1000 [==============================] - 469s 469ms/step - loss: 0.3143 - binary_accuracy: 0.8753 - mean_absolute_error: 0.1881 - val_loss: 0.2808 - val_binary_accuracy: 0.9038 - val_mean_absolute_error: 0.1731\n",
      "\n",
      "Epoch 00023: val_loss improved from 0.28264 to 0.28079, saving model to xray_class_weights.best.hdf5\n",
      "Epoch 24/100\n",
      "1000/1000 [==============================] - 480s 480ms/step - loss: 0.3137 - binary_accuracy: 0.8746 - mean_absolute_error: 0.1880 - val_loss: 0.2890 - val_binary_accuracy: 0.8894 - val_mean_absolute_error: 0.1774\n",
      "\n",
      "Epoch 00024: val_loss did not improve from 0.28079\n",
      "Epoch 25/100\n",
      "1000/1000 [==============================] - 464s 464ms/step - loss: 0.3107 - binary_accuracy: 0.8770 - mean_absolute_error: 0.1863 - val_loss: 0.2799 - val_binary_accuracy: 0.9038 - val_mean_absolute_error: 0.1735\n",
      "\n",
      "Epoch 00025: val_loss improved from 0.28079 to 0.27993, saving model to xray_class_weights.best.hdf5\n",
      "Epoch 26/100\n",
      "1000/1000 [==============================] - 471s 471ms/step - loss: 0.3120 - binary_accuracy: 0.8755 - mean_absolute_error: 0.1869 - val_loss: 0.2932 - val_binary_accuracy: 0.9135 - val_mean_absolute_error: 0.1752\n",
      "\n",
      "Epoch 00026: val_loss did not improve from 0.27993\n",
      "Epoch 27/100\n",
      "1000/1000 [==============================] - 460s 460ms/step - loss: 0.3115 - binary_accuracy: 0.8758 - mean_absolute_error: 0.1866 - val_loss: 0.2827 - val_binary_accuracy: 0.9038 - val_mean_absolute_error: 0.1710\n",
      "\n",
      "Epoch 00027: val_loss did not improve from 0.27993\n",
      "Epoch 28/100\n",
      "1000/1000 [==============================] - 462s 462ms/step - loss: 0.3080 - binary_accuracy: 0.8775 - mean_absolute_error: 0.1845 - val_loss: 0.2801 - val_binary_accuracy: 0.8942 - val_mean_absolute_error: 0.1706\n",
      "\n",
      "Epoch 00028: val_loss did not improve from 0.27993\n",
      "Epoch 29/100\n",
      "1000/1000 [==============================] - 464s 464ms/step - loss: 0.3096 - binary_accuracy: 0.8770 - mean_absolute_error: 0.1853 - val_loss: 0.2869 - val_binary_accuracy: 0.9038 - val_mean_absolute_error: 0.1695\n",
      "\n",
      "Epoch 00029: val_loss did not improve from 0.27993\n",
      "Epoch 30/100\n",
      "1000/1000 [==============================] - 462s 462ms/step - loss: 0.3079 - binary_accuracy: 0.8770 - mean_absolute_error: 0.1846 - val_loss: 0.2895 - val_binary_accuracy: 0.8942 - val_mean_absolute_error: 0.1644\n",
      "\n",
      "Epoch 00030: val_loss did not improve from 0.27993\n"
     ]
    }
   ],
   "source": [
    "lr = 0.0005\n",
    "syntheticBatch = 256\n",
    "imageSize = (512, 512)\n",
    "\n",
    "batchSize = 16\n",
    "batch = 256 / batchSize\n",
    "\n",
    "train_gen = core_idg.flow_from_dataframe(dataframe=train_df, \n",
    "                         directory=None,\n",
    "                         x_col = 'path',\n",
    "                        y_col = 'newLabel', \n",
    "                         class_mode = 'categorical',\n",
    "                        classes = all_labels,\n",
    "                        target_size = imageSize,\n",
    "                         color_mode = 'grayscale',\n",
    "                        batch_size = batchSize)\n",
    "\n",
    "valid_gen = core_idg.flow_from_dataframe(dataframe=valid_df, \n",
    "                         directory=None,\n",
    "                         x_col = 'path',\n",
    "                        y_col = 'newLabel', \n",
    "                         class_mode = 'categorical',\n",
    "                        classes = all_labels,\n",
    "                        target_size = imageSize,\n",
    "                         color_mode = 'grayscale',\n",
    "                        batch_size = 1024) # we can use much larger batches for evaluation\n",
    "\n",
    "\n",
    "opt = AdamAccumulate(lr=lr, accum_iters=int(batch)) #Set the gradient accumulation value\n",
    "multi_disease_model = MakeModel(imageSize, batchSize)\n",
    "multi_disease_model.compile(optimizer = opt, loss = 'binary_crossentropy',\n",
    "       metrics = ['binary_accuracy', 'mae'])\n",
    "\n",
    "history = multi_disease_model.fit_generator(train_gen, \n",
    "              steps_per_epoch=STEPS_PER_EPOCH,\n",
    "              validation_data = valid_gen, \n",
    "              epochs = EPOCHS, \n",
    "              callbacks = callbacks_list,\n",
    "              validation_steps = 2000)"
   ]
  },
  {
   "cell_type": "markdown",
   "metadata": {},
   "source": [
    "# ROC Curves\n",
    "While a very oversimplified metric, we can show the ROC curve for each metric"
   ]
  },
  {
   "cell_type": "code",
   "execution_count": 19,
   "metadata": {},
   "outputs": [
    {
     "name": "stdout",
     "output_type": "stream",
     "text": [
      "Found 9403 validated image filenames belonging to 13 classes.\n"
     ]
    }
   ],
   "source": [
    "test_X, test_Y = next(core_idg.flow_from_dataframe(dataframe=valid_df, \n",
    "                         directory=None,\n",
    "                         x_col = 'path',\n",
    "                        y_col = 'newLabel', \n",
    "                         class_mode = 'categorical',\n",
    "                        classes = all_labels,\n",
    "                        target_size = imageSize,\n",
    "                         color_mode = 'grayscale',\n",
    "                        batch_size = 9403))"
   ]
  },
  {
   "cell_type": "code",
   "execution_count": 21,
   "metadata": {},
   "outputs": [
    {
     "name": "stdout",
     "output_type": "stream",
     "text": [
      "9403/9403 [==============================] - 37s 4ms/step\n"
     ]
    }
   ],
   "source": [
    "pred_Y = multi_disease_model.predict(test_X, batch_size = 32, verbose = True)"
   ]
  },
  {
   "cell_type": "code",
   "execution_count": 22,
   "metadata": {},
   "outputs": [
    {
     "data": {
      "image/png": "[encoded data removed]",
      "text/plain": [
       "<Figure size 648x648 with 1 Axes>"
      ]
     },
     "metadata": {
      "needs_background": "light"
     },
     "output_type": "display_data"
    }
   ],
   "source": [
    "from sklearn.metrics import roc_curve, auc\n",
    "fig, c_ax = plt.subplots(1,1, figsize = (9, 9))\n",
    "for (idx, c_label) in enumerate(all_labels):\n",
    "    fpr, tpr, thresholds = roc_curve(test_Y[:,idx].astype(int), pred_Y[:,idx])\n",
    "    c_ax.plot(fpr, tpr, label = '%s (AUC:%0.2f)'  % (c_label, auc(fpr, tpr)))\n",
    "c_ax.legend()\n",
    "c_ax.set_xlabel('False Positive Rate')\n",
    "c_ax.set_ylabel('True Positive Rate')\n",
    "fig.savefig('barely_trained_net.png')"
   ]
  },
  {
   "cell_type": "code",
   "execution_count": null,
   "metadata": {},
   "outputs": [],
   "source": []
  }
 ],
 "metadata": {
  "kernelspec": {
   "display_name": "Python 3",
   "language": "python",
   "name": "python3"
  },
  "language_info": {
   "codemirror_mode": {
    "name": "ipython",
    "version": 3
   },
   "file_extension": ".py",
   "mimetype": "text/x-python",
   "name": "python",
   "nbconvert_exporter": "python",
   "pygments_lexer": "ipython3",
   "version": "3.7.3"
  }
 },
 "nbformat": 4,
 "nbformat_minor": 1
}
